{
  "nbformat": 4,
  "nbformat_minor": 0,
  "metadata": {
    "colab": {
      "provenance": []
    },
    "kernelspec": {
      "name": "python3",
      "display_name": "Python 3"
    },
    "language_info": {
      "name": "python"
    }
  },
  "cells": [
    {
      "cell_type": "markdown",
      "source": [
        "Elegi 3 datasets, uno del Gobierno de la Ciudad de Buenos Aires, otro del Ministerio de Turismo de la Nacion Argentina y el tercero de Kaggle. \n",
        "\n",
        "El primero trata sobre los siniestros viales ocurridos entre 2015 y 2018. Tiene informacion sobre el tipo de siniestro (homicidio, lesiones), sobre los participantes, el lugar donde sucedio, dia y hora entre otros. Creo que puede servir para identificar zonas mas peligrosas de la ciudad, horarios de mayor riesgo, quienes son los principales afectados por los accidentes de transitos (peatones, motos, vehiculos, camiones, transporte publico) entre otras cosas. \n",
        "\n",
        "El segundo tiene todos los vuelos que arribaron al pais durante 2022. Creo que puede aportar informacion importante sobre principales destinos turisticos, sobre que rutas aereas priorizar a la hora de ofrecer vuelos, que provincias son las mas visitadas, que paises aportan mayor turismo, que empresas deberian sumar destinos o cuales viajes tienen pocos pasajeros y deberian reducir frecuencia, entre otros datos.\n",
        "\n",
        "El ultimo es un dataset de ventas de una tienda de Estados Unidos durante 4 años, con informacion sobre los distintos destinos de las ventas, los tipos de envio, los productos con sus categorias, cantidades de ventas. Creo que puede usarse para evaluar como mejorar las ventas de productos, optimizando envios o realizando ofertas en epocas donde baje la demanda de ciertas categorias de productos."
      ],
      "metadata": {
        "id": "Arwaoq9WITCb"
      }
    },
    {
      "cell_type": "markdown",
      "source": [],
      "metadata": {
        "id": "ad9MftJ0L2uj"
      }
    },
    {
      "cell_type": "code",
      "execution_count": 9,
      "metadata": {
        "id": "ZpVYCpp53Yt0"
      },
      "outputs": [],
      "source": [
        "import pandas as pd"
      ]
    },
    {
      "cell_type": "code",
      "source": [
        "url_siniestros = 'https://www.dropbox.com/s/cbw8qkt51ugno8w/Victimas_siniestros_2015-2018.csv?dl=0'\n",
        "url_vuelos = 'https://www.dropbox.com/s/8k01ha6qxyt66gz/2022-informe-ministerio-vuelos.csv?dl=0'\n",
        "url_superstore = 'https://www.dropbox.com/s/3vitl4w0xvxj50p/SuperStoreSales.csv?dl=0'"
      ],
      "metadata": {
        "id": "9mH3HZE0kJDE"
      },
      "execution_count": 10,
      "outputs": []
    },
    {
      "cell_type": "code",
      "source": [
        "siniestros = pd.read_csv(url_siniestros, on_bad_lines='skip')"
      ],
      "metadata": {
        "id": "EAv7wj-g36q5"
      },
      "execution_count": 18,
      "outputs": []
    },
    {
      "cell_type": "code",
      "source": [
        "superstore = pd.read_csv(url_superstore, on_bad_lines='skip')"
      ],
      "metadata": {
        "id": "1RhJi2RSBNqi"
      },
      "execution_count": 20,
      "outputs": []
    },
    {
      "cell_type": "code",
      "source": [
        "vuelos = pd.read_csv(url_vuelos,on_bad_lines='skip' )"
      ],
      "metadata": {
        "id": "-PkMYtWtBdh0"
      },
      "execution_count": 12,
      "outputs": []
    },
    {
      "cell_type": "code",
      "source": [
        "siniestros.head"
      ],
      "metadata": {
        "id": "mo0z-RVUBzq-",
        "colab": {
          "base_uri": "https://localhost:8080/"
        },
        "outputId": "780305a9-89d1-45ff-c58f-ee321df0f136"
      },
      "execution_count": 19,
      "outputs": [
        {
          "output_type": "execute_result",
          "data": {
            "text/plain": [
              "<bound method NDFrame.head of     <!DOCTYPE html><html class=\"maestro global-header\" lang=\"en\" xml:lang=\"en\" xmlns=\"http://www.w3.org/1999/xhtml\"><head><script nonce=\"mSumRLqjeFnB5UDlO7X2\">\n",
              "0                                  window._goch_ = {};                                                                                                         \n",
              "1                                        'use strict';                                                                                                         \n",
              "2        for (var elm = event.target; elm; elm = el...                                                                                                         \n",
              "3                                        if (elm.id &&                                                                                                         \n",
              "4                window._goch_.hasOwnProperty(elm.i...                                                                                                         \n",
              "..                                                 ...                                                                                                         \n",
              "257              function () { addRequireLoadCallba...                                                                                                         \n",
              "258       /* dbx-global-decl: React is for devtools */                                                                                                         \n",
              "259                             window.React = React;;                                                                                                         \n",
              "260                                               )});                                                                                                         \n",
              "261          </script><script async=\"async\" src=\"/p...                                                                                                         \n",
              "\n",
              "[262 rows x 1 columns]>"
            ]
          },
          "metadata": {},
          "execution_count": 19
        }
      ]
    },
    {
      "cell_type": "code",
      "source": [
        "superstore.head"
      ],
      "metadata": {
        "id": "vhsiUlHf4Iu0",
        "colab": {
          "base_uri": "https://localhost:8080/"
        },
        "outputId": "35c00132-0b25-476e-d86b-27bb0731a238"
      },
      "execution_count": 21,
      "outputs": [
        {
          "output_type": "execute_result",
          "data": {
            "text/plain": [
              "<bound method NDFrame.head of                                        <!DOCTYPE html>\n",
              "0      <html class=\"maestro global-header\" xmlns=\"h...\n",
              "1                                               <head>\n",
              "2                             <meta charset=\"utf-8\" />\n",
              "3          <meta content=\"Shared with Dropbox\" prop...\n",
              "4          <meta content=\"Dropbox\" property=\"og:sit...\n",
              "..                                                 ...\n",
              "241                                                });\n",
              "242                                                });\n",
              "243                                                });\n",
              "244  </script><script nonce=\"F9caVnEJgXGVvfnIqlN7bo...\n",
              "245                    </body></html><!--status=200-->\n",
              "\n",
              "[246 rows x 1 columns]>"
            ]
          },
          "metadata": {},
          "execution_count": 21
        }
      ]
    },
    {
      "cell_type": "code",
      "source": [
        "vuelos.head"
      ],
      "metadata": {
        "colab": {
          "base_uri": "https://localhost:8080/"
        },
        "id": "wPG2Pe9dAZVY",
        "outputId": "10eac98c-c57b-4f3a-c816-3e3cd2945490"
      },
      "execution_count": 13,
      "outputs": [
        {
          "output_type": "execute_result",
          "data": {
            "text/plain": [
              "<bound method NDFrame.head of     <!DOCTYPE html><html class=\"maestro global-header\" lang=\"en\" xml:lang=\"en\" xmlns=\"http://www.w3.org/1999/xhtml\"><head><script nonce=\"BKDIDMfkVt6sxu6zsG71\">\n",
              "0                                  window._goch_ = {};                                                                                                         \n",
              "1                                        'use strict';                                                                                                         \n",
              "2        for (var elm = event.target; elm; elm = el...                                                                                                         \n",
              "3                                        if (elm.id &&                                                                                                         \n",
              "4                window._goch_.hasOwnProperty(elm.i...                                                                                                         \n",
              "..                                                 ...                                                                                                         \n",
              "257              function () { addRequireLoadCallba...                                                                                                         \n",
              "258       /* dbx-global-decl: React is for devtools */                                                                                                         \n",
              "259                             window.React = React;;                                                                                                         \n",
              "260                                               )});                                                                                                         \n",
              "261          </script><script async=\"async\" src=\"/p...                                                                                                         \n",
              "\n",
              "[262 rows x 1 columns]>"
            ]
          },
          "metadata": {},
          "execution_count": 13
        }
      ]
    }
  ]
}